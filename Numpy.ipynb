{
  "nbformat": 4,
  "nbformat_minor": 0,
  "metadata": {
    "colab": {
      "provenance": [],
      "authorship_tag": "ABX9TyOEi05cN2k8pWxrtec2rniv",
      "include_colab_link": true
    },
    "kernelspec": {
      "name": "python3",
      "display_name": "Python 3"
    },
    "language_info": {
      "name": "python"
    }
  },
  "cells": [
    {
      "cell_type": "markdown",
      "metadata": {
        "id": "view-in-github",
        "colab_type": "text"
      },
      "source": [
        "<a href=\"https://colab.research.google.com/github/shankar1108/python-project/blob/main/Numpy.ipynb\" target=\"_parent\"><img src=\"https://colab.research.google.com/assets/colab-badge.svg\" alt=\"Open In Colab\"/></a>"
      ]
    },
    {
      "cell_type": "code",
      "execution_count": null,
      "metadata": {
        "id": "6OjLxDLdb6ap"
      },
      "outputs": [],
      "source": [
        "import numpy as np"
      ]
    },
    {
      "cell_type": "code",
      "source": [
        "\n",
        "data=[4,5,3,6,8,2,7]\n",
        "np.mean(data)"
      ],
      "metadata": {
        "colab": {
          "base_uri": "https://localhost:8080/"
        },
        "id": "Ej0qPFqlp6K7",
        "outputId": "447aebad-4b8a-4c37-b509-8d38b18bc6fb"
      },
      "execution_count": null,
      "outputs": [
        {
          "output_type": "execute_result",
          "data": {
            "text/plain": [
              "5.0"
            ]
          },
          "metadata": {},
          "execution_count": 4
        }
      ]
    },
    {
      "cell_type": "code",
      "source": [
        "import statistics\n",
        "data=[2,4,5,5,6,7,8,8]\n",
        "statistics.mode(data)\n",
        "from statistics import multimode\n",
        "modes= multimode (data)\n",
        "print(modes)"
      ],
      "metadata": {
        "colab": {
          "base_uri": "https://localhost:8080/"
        },
        "id": "8_hBLKHhrjif",
        "outputId": "aaf0e083-1328-4db7-b0bc-949d1644fa52"
      },
      "execution_count": null,
      "outputs": [
        {
          "output_type": "stream",
          "name": "stdout",
          "text": [
            "[5, 8]\n"
          ]
        }
      ]
    },
    {
      "cell_type": "code",
      "source": [
        "import numpy as np\n",
        "data_points=[4,6,2,8,9,7,-1,36,-28]\n",
        "sorted_data=np.sort(data_points)\n",
        "Q1= np.percentile(sorted_data,25)\n",
        "Q3= np.percentile(sorted_data,75)\n",
        "IQR=Q3-Q1\n",
        "print(f\"Sorted Data:{sorted_data}\")\n",
        "print(f\"Q1(25th percentile): {Q1}\")\n",
        "print(f\"Q3(75th percentile): {Q3}\")\n",
        "print(f\"IQR:{IQR}\")"
      ],
      "metadata": {
        "colab": {
          "base_uri": "https://localhost:8080/"
        },
        "id": "9oQfkXnjvQ0a",
        "outputId": "2852494c-b2ab-41de-a8fb-5cb710cc28d7"
      },
      "execution_count": null,
      "outputs": [
        {
          "output_type": "stream",
          "name": "stdout",
          "text": [
            "Sorted Data:[-28  -1   2   4   6   7   8   9  36]\n",
            "Q1(25th percentile): 2.0\n",
            "Q3(75th percentile): 8.0\n",
            "IQR:6.0\n"
          ]
        }
      ]
    },
    {
      "cell_type": "code",
      "source": [
        "lower_bound=Q1-1.5*IQR\n",
        "upper_bound=Q3-1.5*IQR\n",
        "print(f\" Lower Bound:{lower_bound}\")\n",
        "print(f\" Upper Bound:{upper_bound}\")"
      ],
      "metadata": {
        "colab": {
          "base_uri": "https://localhost:8080/"
        },
        "id": "YuITw719vqCI",
        "outputId": "a5661402-c612-4d1b-83fa-f480a022a985"
      },
      "execution_count": null,
      "outputs": [
        {
          "output_type": "stream",
          "name": "stdout",
          "text": [
            " Lower Bound:-7.0\n",
            " Upper Bound:-1.0\n"
          ]
        }
      ]
    },
    {
      "cell_type": "code",
      "source": [],
      "metadata": {
        "id": "ORyYc05owNE8"
      },
      "execution_count": null,
      "outputs": []
    }
  ]
}